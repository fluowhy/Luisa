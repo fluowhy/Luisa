{
  "nbformat": 4,
  "nbformat_minor": 0,
  "metadata": {
    "colab": {
      "name": "text.ipynb",
      "provenance": [],
      "collapsed_sections": [],
      "machine_shape": "hm"
    },
    "kernelspec": {
      "name": "python3",
      "display_name": "Python 3"
    },
    "accelerator": "GPU",
    "pycharm": {
      "stem_cell": {
        "cell_type": "raw",
        "source": [],
        "metadata": {
          "collapsed": false
        }
      }
    }
  },
  "cells": [
    {
      "cell_type": "markdown",
      "metadata": {
        "id": "mrbkRqlHGuwx",
        "colab_type": "text"
      },
      "source": [
        "# Download data to Colab\n",
        "\n",
        "This notebook shows how to download the hackathon data to the Colab drive.\n"
      ]
    },
    {
      "cell_type": "code",
      "metadata": {
        "id": "UWGBdBG-Gq5u",
        "colab_type": "code",
        "colab": {}
      },
      "source": [
        "import os\n",
        "from pydrive.auth import GoogleAuth\n",
        "from pydrive.drive import GoogleDrive\n",
        "from google.colab import auth\n",
        "from oauth2client.client import GoogleCredentials\n",
        "\n",
        "# Authenticate and create the PyDrive client.\n",
        "# This only needs to be done once per notebook.\n",
        "auth.authenticate_user()\n",
        "gauth = GoogleAuth()\n",
        "gauth.credentials = GoogleCredentials.get_application_default()\n",
        "drive = GoogleDrive(gauth)\n",
        "\n",
        "# wrapper to cut & paste \"shareable link\"\n",
        "def download_drive_file(file_share_link):\n",
        "  file_id = file_share_link[file_share_link.find(\"=\") + 1:]\n",
        "  file = drive.CreateFile({'id': file_id }) #DRIVE_FILE_ID is file id example: 1iytA1n2z4go3uVCwE_vIKouTKyIDjEq\n",
        "  fname = file['title']\n",
        "  if not os.path.exists(fname):\n",
        "    file.GetContentFile(fname)  # Save Drive file as a local file"
      ],
      "execution_count": 0,
      "outputs": []
    },
    {
      "cell_type": "code",
      "metadata": {
        "id": "gr2ZtCl1HPut",
        "colab_type": "code",
        "outputId": "48fa69f1-c667-4c10-de5e-df4c41cae152",
        "colab": {
          "base_uri": "https://localhost:8080/",
          "height": 108
        }
      },
      "source": [
        "!ls -l"
      ],
      "execution_count": 0,
      "outputs": [
        {
          "output_type": "stream",
          "text": [
            "total 6398364\n",
            "-rw-r--r-- 1 root root       2620 Nov 15 02:52 adc.json\n",
            "drwxr-xr-x 1 root root       4096 Nov  6 16:17 sample_data\n",
            "-rw-r--r-- 1 root root  101477907 Nov 15 02:54 train_gold.tsv\n",
            "-rw-r--r-- 1 root root 6450432334 Nov 15 03:30 train.h5\n"
          ],
          "name": "stdout"
        }
      ]
    },
    {
      "cell_type": "code",
      "metadata": {
        "id": "FX3-Ai_3G3bx",
        "colab_type": "code",
        "outputId": "8e71eec2-0438-4185-aa2c-645c27d0f157",
        "colab": {
          "base_uri": "https://localhost:8080/",
          "height": 108
        }
      },
      "source": [
        "# download the data\n",
        "download_drive_file(\"https://drive.google.com/open?id=15D6EmC3XTPhPERfR8I6nfy-4dbZiKW_z\") # training set\n",
        "download_drive_file(\"https://drive.google.com/open?id=1IoZiRUvH3eu5SymQYG6MfhzIwxEMZFYg\") # training gold\n",
        "!ls -l"
      ],
      "execution_count": 0,
      "outputs": [
        {
          "output_type": "stream",
          "text": [
            "total 6398364\n",
            "-rw-r--r-- 1 root root       2620 Nov 15 02:52 adc.json\n",
            "drwxr-xr-x 1 root root       4096 Nov  6 16:17 sample_data\n",
            "-rw-r--r-- 1 root root  101477907 Nov 15 02:54 train_gold.tsv\n",
            "-rw-r--r-- 1 root root 6450432334 Nov 15 03:30 train.h5\n"
          ],
          "name": "stdout"
        }
      ]
    },
    {
      "cell_type": "code",
      "metadata": {
        "id": "zo_z3b03H4ZZ",
        "colab_type": "code",
        "outputId": "b46e8a3f-c50b-481c-a450-5e8a2f45c3b4",
        "colab": {
          "base_uri": "https://localhost:8080/",
          "height": 144
        }
      },
      "source": [
        "import h5py\n",
        "from pandas import read_csv\n",
        "import numpy as np\n",
        "import matplotlib.pyplot as plt\n",
        "from tqdm import tqdm\n",
        "\n",
        "labels = read_csv('train_gold.tsv', delimiter='\\t', index_col=0, names=['reference'])\n",
        "\n",
        "print(labels.head(5))\n",
        "\n",
        "with h5py.File('train.h5') as f:\n",
        "  assert(labels.shape[0] == f['id'].shape[0])\n",
        "  assert(labels.shape[0] == f['img'].shape[0])\n",
        "  assert(labels.shape[0] == f['shape'].shape[0])\n",
        "  assert(labels.index.isin(np.asarray(f['id'])).all())\n",
        "  \n",
        "print('Dataset info is OK')\n"
      ],
      "execution_count": 0,
      "outputs": [
        {
          "output_type": "stream",
          "text": [
            "        reference\n",
            "1655573  posible,\n",
            "1655574      Jose\n",
            "1655575        de\n",
            "1655576   OFICINA\n",
            "1655577        Gu\n",
            "Dataset info is OK\n"
          ],
          "name": "stdout"
        }
      ]
    },
    {
      "cell_type": "code",
      "metadata": {
        "id": "fHlUAGBBXhVJ",
        "colab_type": "code",
        "colab": {}
      },
      "source": [
        "f = h5py.File('./train.h5')\n",
        "\n",
        "def show_image(i):\n",
        "  ids = f['id']\n",
        "  imgs = f['img']\n",
        "  shapes = f['shape']\n",
        "  shape = shapes[i]\n",
        "  block_len = int(shape[0]) * int(shape[1])  # number of pixels\n",
        "  block_bits = imgs[i]            # get packed bits\n",
        "  block_pixels = np.unpackbits(block_bits)         # unpack bits into boolean pixels\n",
        "  block_pixels = block_pixels[:block_len]          # discard trailing bits generate during packing\n",
        "  block_array = np.reshape(block_pixels, shape)\n",
        "  plt.imshow(block_array)\n",
        "  plt.title('id: {}, target: {}'.format(ids[i], labels.reference.values[i]))\n",
        "  plt.show()\n",
        "  return"
      ],
      "execution_count": 0,
      "outputs": []
    },
    {
      "cell_type": "code",
      "metadata": {
        "id": "q3a9dAJcX-jg",
        "colab_type": "code",
        "outputId": "249513c4-8fae-4635-b72f-9e782242ea08",
        "colab": {
          "base_uri": "https://localhost:8080/",
          "height": 99
        }
      },
      "source": [
        "show_image(56)"
      ],
      "execution_count": 0,
      "outputs": [
        {
          "output_type": "display_data",
          "data": {
            "image/png": "[encoded data removed]",
            "text/plain": [
              "<Figure size 432x288 with 1 Axes>"
            ]
          },
          "metadata": {
            "tags": []
          }
        }
      ]
    },
    {
      "cell_type": "code",
      "metadata": {
        "id": "lhkv3cmLU2bk",
        "colab_type": "code",
        "outputId": "0ab4e3ef-3b00-45f2-c5af-d7c67d4ede0a",
        "colab": {
          "base_uri": "https://localhost:8080/",
          "height": 55
        }
      },
      "source": [
        "\"\"\"\n",
        "with h5py.File('./train.h5') as f:\n",
        "    ids = f['id']\n",
        "    imgs = f['img']\n",
        "    shapes = f['shape']\n",
        "    for i in range(ids.shape[0])[:10]:\n",
        "        shape = shapes[i]\n",
        "        block_len = int(shape[0]) * int(shape[1])  # number of pixels\n",
        "        block_bits = imgs[i]            # get packed bits\n",
        "        block_pixels = np.unpackbits(block_bits)         # unpack bits into boolean pixels\n",
        "        block_pixels = block_pixels[:block_len]          # discard trailing bits generate during packing\n",
        "        block_array = np.reshape(block_pixels, shape)\n",
        "        plt.imshow(block_array)\n",
        "        plt.title('id: {}, target: {}'.format(ids[i], labels.reference.values[i]))\n",
        "        plt.show()\n",
        "\"\"\""
      ],
      "execution_count": 0,
      "outputs": [
        {
          "output_type": "execute_result",
          "data": {
            "text/plain": [
              "\"\\nwith h5py.File('./train.h5') as f:\\n    ids = f['id']\\n    imgs = f['img']\\n    shapes = f['shape']\\n    for i in range(ids.shape[0])[:10]:\\n        shape = shapes[i]\\n        block_len = int(shape[0]) * int(shape[1])  # number of pixels\\n        block_bits = imgs[i]            # get packed bits\\n        block_pixels = np.unpackbits(block_bits)         # unpack bits into boolean pixels\\n        block_pixels = block_pixels[:block_len]          # discard trailing bits generate during packing\\n        block_array = np.reshape(block_pixels, shape)\\n        plt.imshow(block_array)\\n        plt.title('id: {}, target: {}'.format(ids[i], labels.reference.values[i]))\\n        plt.show()\\n\""
            ]
          },
          "metadata": {
            "tags": []
          },
          "execution_count": 7
        }
      ]
    },
    {
      "cell_type": "code",
      "metadata": {
        "id": "DScT8k74bact",
        "colab_type": "code",
        "outputId": "d66246a0-af0f-451c-d946-ea3537405909",
        "colab": {
          "base_uri": "https://localhost:8080/",
          "height": 424
        }
      },
      "source": [
        "labels"
      ],
      "execution_count": 0,
      "outputs": [
        {
          "output_type": "execute_result",
          "data": {
            "text/html": [
              "<div>\n",
              "<style scoped>\n",
              "    .dataframe tbody tr th:only-of-type {\n",
              "        vertical-align: middle;\n",
              "    }\n",
              "\n",
              "    .dataframe tbody tr th {\n",
              "        vertical-align: top;\n",
              "    }\n",
              "\n",
              "    .dataframe thead th {\n",
              "        text-align: right;\n",
              "    }\n",
              "</style>\n",
              "<table border=\"1\" class=\"dataframe\">\n",
              "  <thead>\n",
              "    <tr style=\"text-align: right;\">\n",
              "      <th></th>\n",
              "      <th>reference</th>\n",
              "    </tr>\n",
              "  </thead>\n",
              "  <tbody>\n",
              "    <tr>\n",
              "      <th>1655573</th>\n",
              "      <td>posible,</td>\n",
              "    </tr>\n",
              "    <tr>\n",
              "      <th>1655574</th>\n",
              "      <td>Jose</td>\n",
              "    </tr>\n",
              "    <tr>\n",
              "      <th>1655575</th>\n",
              "      <td>de</td>\n",
              "    </tr>\n",
              "    <tr>\n",
              "      <th>1655576</th>\n",
              "      <td>OFICINA</td>\n",
              "    </tr>\n",
              "    <tr>\n",
              "      <th>1655577</th>\n",
              "      <td>Gu</td>\n",
              "    </tr>\n",
              "    <tr>\n",
              "      <th>...</th>\n",
              "      <td>...</td>\n",
              "    </tr>\n",
              "    <tr>\n",
              "      <th>11589005</th>\n",
              "      <td>nacionalidad</td>\n",
              "    </tr>\n",
              "    <tr>\n",
              "      <th>11589006</th>\n",
              "      <td>que</td>\n",
              "    </tr>\n",
              "    <tr>\n",
              "      <th>11589008</th>\n",
              "      <td>de</td>\n",
              "    </tr>\n",
              "    <tr>\n",
              "      <th>11589009</th>\n",
              "      <td>consecuencia, como</td>\n",
              "    </tr>\n",
              "    <tr>\n",
              "      <th>11589010</th>\n",
              "      <td>vez</td>\n",
              "    </tr>\n",
              "  </tbody>\n",
              "</table>\n",
              "<p>6953406 rows × 1 columns</p>\n",
              "</div>"
            ],
            "text/plain": [
              "                   reference\n",
              "1655573             posible,\n",
              "1655574                 Jose\n",
              "1655575                   de\n",
              "1655576              OFICINA\n",
              "1655577                   Gu\n",
              "...                      ...\n",
              "11589005        nacionalidad\n",
              "11589006                 que\n",
              "11589008                  de\n",
              "11589009  consecuencia, como\n",
              "11589010                 vez\n",
              "\n",
              "[6953406 rows x 1 columns]"
            ]
          },
          "metadata": {
            "tags": []
          },
          "execution_count": 8
        }
      ]
    },
    {
      "cell_type": "code",
      "metadata": {
        "id": "mJ-HrHMUcu81",
        "colab_type": "code",
        "outputId": "a68886d7-3e3e-4c54-a6f7-d01f1e18f09c",
        "colab": {
          "base_uri": "https://localhost:8080/",
          "height": 35
        }
      },
      "source": [
        "# Determine unique labels + eos\n",
        "long_string = \"\"\n",
        "for i in tqdm(labels.reference.values):\n",
        "  long_string += i\n",
        "long_string = list(long_string)\n",
        "long_string.insert(0, \"<eos>\")\n",
        "long_string.insert(0, \"<sos>\")\n",
        "long_string.insert(0, \"<pad>\")\n",
        "my_labels, counts = np.unique(long_string, return_counts=True)"
      ],
      "execution_count": 0,
      "outputs": [
        {
          "output_type": "stream",
          "text": [
            "100%|██████████| 6953406/6953406 [00:02<00:00, 2648328.94it/s]\n"
          ],
          "name": "stderr"
        }
      ]
    },
    {
      "cell_type": "code",
      "metadata": {
        "id": "UxInnjD3hQWM",
        "colab_type": "code",
        "colab": {}
      },
      "source": [
        "# Encoder\n",
        "char2idx = {u:i for i, u in enumerate(my_labels)}\n",
        "idx2char = np.array(my_labels)"
      ],
      "execution_count": 0,
      "outputs": []
    },
    {
      "cell_type": "code",
      "metadata": {
        "id": "70o1_mIddFN0",
        "colab_type": "code",
        "outputId": "c76feba3-70c7-4332-8dc0-aa078a81c6a3",
        "colab": {
          "base_uri": "https://localhost:8080/",
          "height": 35
        }
      },
      "source": [
        "# Add eos and sos to labels datframe\n",
        "encoded_labels = []\n",
        "seq_len = []\n",
        "for lab in tqdm(labels.reference.values):\n",
        "  encoded = [char2idx[i] for i in list(lab)]\n",
        "  seq_len.append(len(encoded))\n",
        "  encoded.append(char2idx[\"<eos>\"])\n",
        "  encoded.insert(0, char2idx[\"<sos>\"])\n",
        "  encoded_labels.append(encoded)\n",
        "labels[\"seq_len\"] = seq_len\n",
        "labels[\"encoded_labels\"] = encoded_labels"
      ],
      "execution_count": 0,
      "outputs": [
        {
          "output_type": "stream",
          "text": [
            "100%|██████████| 6953406/6953406 [00:22<00:00, 314554.15it/s]\n"
          ],
          "name": "stderr"
        }
      ]
    },
    {
      "cell_type": "code",
      "metadata": {
        "id": "U2cQCBAUjnrh",
        "colab_type": "code",
        "outputId": "9ca569af-3073-4a44-e4c3-a2ca69f1f217",
        "colab": {
          "base_uri": "https://localhost:8080/",
          "height": 271
        }
      },
      "source": [
        "labels.head"
      ],
      "execution_count": 0,
      "outputs": [
        {
          "output_type": "execute_result",
          "data": {
            "text/plain": [
              "<bound method NDFrame.head of                    reference  ...                                     encoded_labels\n",
              "1655573             posible,  ...           [29, 77, 76, 80, 70, 63, 73, 66, 10, 27]\n",
              "1655574                 Jose  ...                           [29, 42, 76, 80, 66, 27]\n",
              "1655575                   de  ...                                   [29, 65, 66, 27]\n",
              "1655576              OFICINA  ...               [29, 47, 38, 41, 35, 41, 46, 33, 27]\n",
              "1655577                   Gu  ...                                   [29, 39, 82, 27]\n",
              "...                      ...  ...                                                ...\n",
              "11589005        nacionalidad  ...  [29, 75, 62, 64, 70, 76, 75, 62, 73, 70, 65, 6...\n",
              "11589006                 que  ...                               [29, 78, 82, 66, 27]\n",
              "11589008                  de  ...                                   [29, 65, 66, 27]\n",
              "11589009  consecuencia, como  ...  [29, 64, 76, 75, 80, 66, 64, 82, 66, 75, 64, 7...\n",
              "11589010                 vez  ...                               [29, 83, 66, 87, 27]\n",
              "\n",
              "[6953406 rows x 3 columns]>"
            ]
          },
          "metadata": {
            "tags": []
          },
          "execution_count": 12
        }
      ]
    },
    {
      "cell_type": "code",
      "metadata": {
        "id": "9qciJIkVjo5c",
        "colab_type": "code",
        "colab": {}
      },
      "source": [
        "import torch\n",
        "from scipy import stats"
      ],
      "execution_count": 0,
      "outputs": []
    },
    {
      "cell_type": "code",
      "metadata": {
        "id": "oK6yNaGJnW9_",
        "colab_type": "code",
        "colab": {}
      },
      "source": [
        "class Flatten(torch.nn.Module):\n",
        "    def forward(self, input):\n",
        "        return input.reshape(input.size(0), -1)"
      ],
      "execution_count": 0,
      "outputs": []
    },
    {
      "cell_type": "code",
      "metadata": {
        "id": "BLqiJSL2lMIj",
        "colab_type": "code",
        "colab": {}
      },
      "source": [
        "class GRU(torch.nn.Module):\n",
        "  def __init__(self, nin, nh, nlayers=1, ks=3, nf=2, do=0.5):\n",
        "    super(GRU, self).__init__()\n",
        "    self.nh = nh\n",
        "    self.ks = ks\n",
        "    self.relu = torch.nn.ReLU()\n",
        "    self.nf = nf\n",
        "    if nlayers >= 2:\n",
        "        self.rnn = torch.nn.GRU(input_size=nin, hidden_size=nh, num_layers=nlayers, dropout=do, batch_first=True)\n",
        "    else:\n",
        "        self.rnn = torch.nn.GRU(input_size=nin, hidden_size=nh, num_layers=nlayers, batch_first=True)\n",
        "    # Convolutional layers\n",
        "    self.conv1 = torch.nn.Conv2d(1, self.nf, kernel_size=3, padding=int(ks / 2))\n",
        "    self.maxpool1 = torch.nn.MaxPool2d(kernel_size=2)\n",
        "    self.bn1 = torch.nn.BatchNorm2d(self.nf)\n",
        "    self.conv2 = torch.nn.Conv2d(self.nf, 2 * self.nf, kernel_size=3, padding=int(ks / 2))\n",
        "    self.maxpool2 = torch.nn.MaxPool2d(kernel_size=2)\n",
        "    self.bn2 = torch.nn.BatchNorm2d(2 * self.nf)\n",
        "    self.flatten = Flatten()\n",
        "\n",
        "    def convolutions(self, x):\n",
        "      x = self.maxpool1(self.relu(self.bn1(self.conv1(x))))\n",
        "      x = self.maxpool2(self.relu(self.bn2(self.conv2(x))))\n",
        "      return self.flatten(x)\n",
        "\n",
        "    def forward(self, img, text):\n",
        "      f = self.convolutions(img)\n",
        "      y_pred = self.recurrence(f, text)\n",
        "      return y_pred\n",
        "\n",
        "    def recurrence(self, x, hidden):\n",
        "      output, hidden = self.rnn(x, hidden)\n",
        "      return output\n",
        "\n",
        "        "
      ],
      "execution_count": 0,
      "outputs": []
    },
    {
      "cell_type": "code",
      "metadata": {
        "id": "O8mQVmciPbsI",
        "colab_type": "code",
        "colab": {}
      },
      "source": [
        "class Label2OneHot(object):\n",
        "    def __init__(self, nlabels):\n",
        "        self.nlabels = nlabels\n",
        "\n",
        "    def __call__(self, x):\n",
        "        return torch.nn.functional.one_hot(x.long(), num_classes=self.nlabels).float()"
      ],
      "execution_count": 0,
      "outputs": []
    },
    {
      "cell_type": "code",
      "metadata": {
        "id": "sgCuXIp8_tlw",
        "colab_type": "code",
        "colab": {}
      },
      "source": [
        "gru = GRU(nin=5,\n",
        "          nh=32,\n",
        "          nlayers=1,\n",
        "          ks=3,\n",
        "          nf=2,\n",
        "          do=0.5\n",
        "          )"
      ],
      "execution_count": 0,
      "outputs": []
    },
    {
      "cell_type": "code",
      "metadata": {
        "id": "aiQfr6ZtPvqd",
        "colab_type": "code",
        "colab": {}
      },
      "source": [
        "label2onehot = Label2OneHot(len(my_labels))"
      ],
      "execution_count": 0,
      "outputs": []
    },
    {
      "cell_type": "code",
      "metadata": {
        "id": "y3GkK8-5Gboh",
        "colab_type": "code",
        "colab": {}
      },
      "source": [
        "imgs = f['img']\n",
        "shapes = f['shape']"
      ],
      "execution_count": 0,
      "outputs": []
    },
    {
      "cell_type": "code",
      "metadata": {
        "id": "pE6mdHKgE4ob",
        "colab_type": "code",
        "colab": {}
      },
      "source": [
        "mask1 = shapes[:, 0] <= 36\n",
        "mask2 = shapes[:, 1] <= 72\n",
        "mask = mask1 * mask2"
      ],
      "execution_count": 0,
      "outputs": []
    },
    {
      "cell_type": "code",
      "metadata": {
        "id": "T-0ohczRFDyw",
        "colab_type": "code",
        "outputId": "16796114-331e-4d99-a770-4d4ec60e68f2",
        "colab": {
          "base_uri": "https://localhost:8080/",
          "height": 35
        }
      },
      "source": [
        "index = np.arange(len(labels))[mask]\n",
        "new_images_array = np.zeros((np.sum(mask), 36, 72), dtype=np.uint8)\n",
        "for i, idx in tqdm(enumerate(index)):\n",
        "  shape = shapes[idx]\n",
        "  block_len = int(shape[0]) * int(shape[1])  # number of pixels\n",
        "  block_bits = imgs[idx]            # get packed bits\n",
        "  block_pixels = np.unpackbits(block_bits)         # unpack bits into boolean pixels\n",
        "  block_pixels = block_pixels[:block_len]          # discard trailing bits generate during packing\n",
        "  block_array = np.reshape(block_pixels, shape)\n",
        "  new_images_array[i, :shape[0], :shape[1]] = np.logical_not(block_array)"
      ],
      "execution_count": 0,
      "outputs": [
        {
          "output_type": "stream",
          "text": [
            "779088it [02:59, 4340.40it/s]\n"
          ],
          "name": "stderr"
        }
      ]
    },
    {
      "cell_type": "code",
      "metadata": {
        "id": "VD4NjIm3HpRo",
        "colab_type": "code",
        "outputId": "872a293f-9a5e-44a0-d186-face4b566a1d",
        "colab": {
          "base_uri": "https://localhost:8080/",
          "height": 235
        }
      },
      "source": [
        "plt.imshow(new_images_array[-1])"
      ],
      "execution_count": 0,
      "outputs": [
        {
          "output_type": "execute_result",
          "data": {
            "text/plain": [
              "<matplotlib.image.AxesImage at 0x7f99b5fdc860>"
            ]
          },
          "metadata": {
            "tags": []
          },
          "execution_count": 77
        },
        {
          "output_type": "display_data",
          "data": {
            "image/png": "[encoded data removed]",
            "text/plain": [
              "<Figure size 432x288 with 1 Axes>"
            ]
          },
          "metadata": {
            "tags": []
          }
        }
      ]
    },
    {
      "cell_type": "code",
      "metadata": {
        "id": "clMj1dq7LbhW",
        "colab_type": "code",
        "colab": {}
      },
      "source": [
        "new_reference = labels.reference.values[mask]\n",
        "new_encoded_values = labels.encoded_labels.values[mask]\n",
        "new_seq_len = labels.seq_len.values[mask]"
      ],
      "execution_count": 0,
      "outputs": []
    },
    {
      "cell_type": "code",
      "metadata": {
        "id": "tulGKGSmREfp",
        "colab_type": "code",
        "outputId": "4328bf7f-f85a-441f-a8ec-451fe751aba6",
        "colab": {
          "base_uri": "https://localhost:8080/",
          "height": 162
        }
      },
      "source": [
        "y = np.zeros((np.sum(mask), np.max(new_seq_len) + 2), dtype=int)\n",
        "for i, value in tqdm(enumerate(new_encoded_values)):\n",
        "  y[i, :new_seq_len[i] + 2] = value\n",
        "print(y)\n"
      ],
      "execution_count": 0,
      "outputs": [
        {
          "output_type": "stream",
          "text": [
            "779088it [00:01, 581390.48it/s]"
          ],
          "name": "stderr"
        },
        {
          "output_type": "stream",
          "text": [
            "[[29 65 66 ...  0  0  0]\n",
            " [29 39 82 ...  0  0  0]\n",
            " [29 66 46 ...  0  0  0]\n",
            " ...\n",
            " [29 65 66 ...  0  0  0]\n",
            " [29 38 47 ...  0  0  0]\n",
            " [29 65 66 ...  0  0  0]]\n"
          ],
          "name": "stdout"
        },
        {
          "output_type": "stream",
          "text": [
            "\n"
          ],
          "name": "stderr"
        }
      ]
    },
    {
      "cell_type": "code",
      "metadata": {
        "id": "lM0FR1ZsOBrw",
        "colab_type": "code",
        "outputId": "ee2161c9-33f3-48bf-ea3f-d5817c5062fa",
        "colab": {
          "base_uri": "https://localhost:8080/",
          "height": 53
        }
      },
      "source": [
        "x_sample = torch.tensor(new_images_array[:10], dtype=torch.float32).unsqueeze(1)\n",
        "y_sample = torch.tensor(y[:10], dtype=torch.long)\n",
        "one_hot_text = label2onehot(y_sample)\n",
        "print(x_sample.shape)\n",
        "print(y_sample.shape)"
      ],
      "execution_count": 0,
      "outputs": [
        {
          "output_type": "stream",
          "text": [
            "torch.Size([10, 1, 36, 72])\n",
            "torch.Size([10, 10])\n"
          ],
          "name": "stdout"
        }
      ]
    },
    {
      "cell_type": "code",
      "metadata": {
        "id": "_lSx887YP-ci",
        "colab_type": "code",
        "outputId": "f7789ffa-3b0c-4b08-a4d1-c7c7785371ca",
        "colab": {
          "base_uri": "https://localhost:8080/",
          "height": 35
        }
      },
      "source": [
        "new_encoded_values"
      ],
      "execution_count": 0,
      "outputs": [
        {
          "output_type": "execute_result",
          "data": {
            "text/plain": [
              "array(['de', 'Gu', 'eN', ..., 'de', 'FO', 'de'], dtype=object)"
            ]
          },
          "metadata": {
            "tags": []
          },
          "execution_count": 99
        }
      ]
    },
    {
      "cell_type": "code",
      "metadata": {
        "id": "eTmbRtSeOMMV",
        "colab_type": "code",
        "outputId": "ed7b6935-68f9-4808-beea-ef779cd3b976",
        "colab": {
          "base_uri": "https://localhost:8080/",
          "height": 322
        }
      },
      "source": [
        "gru(x_sample, one_hot_text)"
      ],
      "execution_count": 0,
      "outputs": [
        {
          "output_type": "error",
          "ename": "NotImplementedError",
          "evalue": "ignored",
          "traceback": [
            "\u001b[0;31m---------------------------------------------------------------------------\u001b[0m",
            "\u001b[0;31mNotImplementedError\u001b[0m                       Traceback (most recent call last)",
            "\u001b[0;32m<ipython-input-123-86e1f946792e>\u001b[0m in \u001b[0;36m<module>\u001b[0;34m()\u001b[0m\n\u001b[0;32m----> 1\u001b[0;31m \u001b[0mgru\u001b[0m\u001b[0;34m(\u001b[0m\u001b[0mx_sample\u001b[0m\u001b[0;34m,\u001b[0m \u001b[0mone_hot_text\u001b[0m\u001b[0;34m)\u001b[0m\u001b[0;34m\u001b[0m\u001b[0;34m\u001b[0m\u001b[0m\n\u001b[0m",
            "\u001b[0;32m/usr/local/lib/python3.6/dist-packages/torch/nn/modules/module.py\u001b[0m in \u001b[0;36m__call__\u001b[0;34m(self, *input, **kwargs)\u001b[0m\n\u001b[1;32m    539\u001b[0m             \u001b[0mresult\u001b[0m \u001b[0;34m=\u001b[0m \u001b[0mself\u001b[0m\u001b[0;34m.\u001b[0m\u001b[0m_slow_forward\u001b[0m\u001b[0;34m(\u001b[0m\u001b[0;34m*\u001b[0m\u001b[0minput\u001b[0m\u001b[0;34m,\u001b[0m \u001b[0;34m**\u001b[0m\u001b[0mkwargs\u001b[0m\u001b[0;34m)\u001b[0m\u001b[0;34m\u001b[0m\u001b[0;34m\u001b[0m\u001b[0m\n\u001b[1;32m    540\u001b[0m         \u001b[0;32melse\u001b[0m\u001b[0;34m:\u001b[0m\u001b[0;34m\u001b[0m\u001b[0;34m\u001b[0m\u001b[0m\n\u001b[0;32m--> 541\u001b[0;31m             \u001b[0mresult\u001b[0m \u001b[0;34m=\u001b[0m \u001b[0mself\u001b[0m\u001b[0;34m.\u001b[0m\u001b[0mforward\u001b[0m\u001b[0;34m(\u001b[0m\u001b[0;34m*\u001b[0m\u001b[0minput\u001b[0m\u001b[0;34m,\u001b[0m \u001b[0;34m**\u001b[0m\u001b[0mkwargs\u001b[0m\u001b[0;34m)\u001b[0m\u001b[0;34m\u001b[0m\u001b[0;34m\u001b[0m\u001b[0m\n\u001b[0m\u001b[1;32m    542\u001b[0m         \u001b[0;32mfor\u001b[0m \u001b[0mhook\u001b[0m \u001b[0;32min\u001b[0m \u001b[0mself\u001b[0m\u001b[0;34m.\u001b[0m\u001b[0m_forward_hooks\u001b[0m\u001b[0;34m.\u001b[0m\u001b[0mvalues\u001b[0m\u001b[0;34m(\u001b[0m\u001b[0;34m)\u001b[0m\u001b[0;34m:\u001b[0m\u001b[0;34m\u001b[0m\u001b[0;34m\u001b[0m\u001b[0m\n\u001b[1;32m    543\u001b[0m             \u001b[0mhook_result\u001b[0m \u001b[0;34m=\u001b[0m \u001b[0mhook\u001b[0m\u001b[0;34m(\u001b[0m\u001b[0mself\u001b[0m\u001b[0;34m,\u001b[0m \u001b[0minput\u001b[0m\u001b[0;34m,\u001b[0m \u001b[0mresult\u001b[0m\u001b[0;34m)\u001b[0m\u001b[0;34m\u001b[0m\u001b[0;34m\u001b[0m\u001b[0m\n",
            "\u001b[0;32m/usr/local/lib/python3.6/dist-packages/torch/nn/modules/module.py\u001b[0m in \u001b[0;36mforward\u001b[0;34m(self, *input)\u001b[0m\n\u001b[1;32m     95\u001b[0m             \u001b[0mregistered\u001b[0m \u001b[0mhooks\u001b[0m \u001b[0;32mwhile\u001b[0m \u001b[0mthe\u001b[0m \u001b[0mlatter\u001b[0m \u001b[0msilently\u001b[0m \u001b[0mignores\u001b[0m \u001b[0mthem\u001b[0m\u001b[0;34m.\u001b[0m\u001b[0;34m\u001b[0m\u001b[0;34m\u001b[0m\u001b[0m\n\u001b[1;32m     96\u001b[0m         \"\"\"\n\u001b[0;32m---> 97\u001b[0;31m         \u001b[0;32mraise\u001b[0m \u001b[0mNotImplementedError\u001b[0m\u001b[0;34m\u001b[0m\u001b[0;34m\u001b[0m\u001b[0m\n\u001b[0m\u001b[1;32m     98\u001b[0m \u001b[0;34m\u001b[0m\u001b[0m\n\u001b[1;32m     99\u001b[0m     \u001b[0;32mdef\u001b[0m \u001b[0mregister_buffer\u001b[0m\u001b[0;34m(\u001b[0m\u001b[0mself\u001b[0m\u001b[0;34m,\u001b[0m \u001b[0mname\u001b[0m\u001b[0;34m,\u001b[0m \u001b[0mtensor\u001b[0m\u001b[0;34m)\u001b[0m\u001b[0;34m:\u001b[0m\u001b[0;34m\u001b[0m\u001b[0;34m\u001b[0m\u001b[0m\n",
            "\u001b[0;31mNotImplementedError\u001b[0m: "
          ]
        }
      ]
    },
    {
      "cell_type": "code",
      "metadata": {
        "id": "hOJYaTJqP75B",
        "colab_type": "code",
        "outputId": "c55ca851-cba4-4935-e38d-d75634611451",
        "colab": {
          "base_uri": "https://localhost:8080/",
          "height": 35
        }
      },
      "source": [
        "one_hot_text.shape"
      ],
      "execution_count": 0,
      "outputs": [
        {
          "output_type": "execute_result",
          "data": {
            "text/plain": [
              "torch.Size([10, 10, 110])"
            ]
          },
          "metadata": {
            "tags": []
          },
          "execution_count": 117
        }
      ]
    },
    {
      "cell_type": "code",
      "metadata": {
        "id": "M-vv7oGLOQs4",
        "colab_type": "code",
        "colab": {}
      },
      "source": [
        ""
      ],
      "execution_count": 0,
      "outputs": []
    }
  ]
}