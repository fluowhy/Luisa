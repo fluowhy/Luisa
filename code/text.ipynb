{
 "cells": [
  {
   "cell_type": "markdown",
   "metadata": {
    "colab_type": "text",
    "id": "mrbkRqlHGuwx"
   },
   "source": [
    "# Download data to Colab\n",
    "\n",
    "This notebook shows how to download the hackathon data to the Colab drive.\n"
   ]
  },
  {
   "cell_type": "code",
   "execution_count": 2,
   "metadata": {
    "colab": {},
    "colab_type": "code",
    "id": "UWGBdBG-Gq5u"
   },
   "outputs": [],
   "source": [
    "import os\n",
    "import h5py\n",
    "from pandas import read_csv\n",
    "import numpy as np\n",
    "import matplotlib.pyplot as plt\n",
    "from tqdm import tqdm\n",
    "from scipy import stats"
   ]
  },
  {
   "cell_type": "code",
   "execution_count": 6,
   "metadata": {
    "colab": {
     "base_uri": "https://localhost:8080/",
     "height": 144
    },
    "colab_type": "code",
    "id": "zo_z3b03H4ZZ",
    "outputId": "b46e8a3f-c50b-481c-a450-5e8a2f45c3b4"
   },
   "outputs": [
    {
     "name": "stdout",
     "output_type": "stream",
     "text": [
      "        reference\n",
      "1655573  posible,\n",
      "1655574      Jose\n",
      "1655575        de\n",
      "1655576   OFICINA\n",
      "1655577        Gu\n",
      "Dataset info is OK\n"
     ]
    }
   ],
   "source": [
    "labels = read_csv(\"../data/train_gold.tsv\", delimiter=\"\\t\", index_col=0, names=[\"reference\"])\n",
    "\n",
    "print(labels.head(5))\n",
    "\n",
    "with h5py.File(\"../data/train.h5\") as f:\n",
    "    assert(labels.shape[0] == f[\"id\"].shape[0])\n",
    "    assert(labels.shape[0] == f[\"img\"].shape[0])\n",
    "    assert(labels.shape[0] == f[\"shape\"].shape[0])\n",
    "    assert(labels.index.isin(np.asarray(f[\"id\"])).all())\n",
    "  \n",
    "print('Dataset info is OK')\n"
   ]
  },
  {
   "cell_type": "code",
   "execution_count": 8,
   "metadata": {
    "colab": {},
    "colab_type": "code",
    "id": "fHlUAGBBXhVJ"
   },
   "outputs": [],
   "source": [
    "f = h5py.File('../data/train.h5')\n",
    "\n",
    "def show_image(i):\n",
    "    ids = f['id']\n",
    "    imgs = f['img']\n",
    "    shapes = f['shape']\n",
    "    shape = shapes[i]\n",
    "    block_len = int(shape[0]) * int(shape[1])  # number of pixels\n",
    "    block_bits = imgs[i]            # get packed bits\n",
    "    block_pixels = np.unpackbits(block_bits)         # unpack bits into boolean pixels\n",
    "    block_pixels = block_pixels[:block_len]          # discard trailing bits generate during packing\n",
    "    block_array = np.reshape(block_pixels, shape)\n",
    "    plt.imshow(block_array)\n",
    "    plt.title('id: {}, target: {}'.format(ids[i], labels.reference.values[i]))\n",
    "    plt.show()\n",
    "    return"
   ]
  },
  {
   "cell_type": "code",
   "execution_count": 12,
   "metadata": {
    "colab": {
     "base_uri": "https://localhost:8080/",
     "height": 99
    },
    "colab_type": "code",
    "id": "q3a9dAJcX-jg",
    "outputId": "249513c4-8fae-4635-b72f-9e782242ea08"
   },
   "outputs": [
    {
     "data": {
      "image/png": "[encoded data removed]",
      "text/plain": [
       "<Figure size 432x288 with 1 Axes>"
      ]
     },
     "metadata": {
      "needs_background": "light"
     },
     "output_type": "display_data"
    }
   ],
   "source": [
    "show_image(1245)"
   ]
  },
  {
   "cell_type": "code",
   "execution_count": 0,
   "metadata": {
    "colab": {
     "base_uri": "https://localhost:8080/",
     "height": 55
    },
    "colab_type": "code",
    "id": "lhkv3cmLU2bk",
    "outputId": "0ab4e3ef-3b00-45f2-c5af-d7c67d4ede0a"
   },
   "outputs": [
    {
     "data": {
      "text/plain": [
       "\"\\nwith h5py.File('./train.h5') as f:\\n    ids = f['id']\\n    imgs = f['img']\\n    shapes = f['shape']\\n    for i in range(ids.shape[0])[:10]:\\n        shape = shapes[i]\\n        block_len = int(shape[0]) * int(shape[1])  # number of pixels\\n        block_bits = imgs[i]            # get packed bits\\n        block_pixels = np.unpackbits(block_bits)         # unpack bits into boolean pixels\\n        block_pixels = block_pixels[:block_len]          # discard trailing bits generate during packing\\n        block_array = np.reshape(block_pixels, shape)\\n        plt.imshow(block_array)\\n        plt.title('id: {}, target: {}'.format(ids[i], labels.reference.values[i]))\\n        plt.show()\\n\""
      ]
     },
     "execution_count": 7,
     "metadata": {
      "tags": []
     },
     "output_type": "execute_result"
    }
   ],
   "source": [
    "\"\"\"\n",
    "with h5py.File('./train.h5') as f:\n",
    "    ids = f['id']\n",
    "    imgs = f['img']\n",
    "    shapes = f['shape']\n",
    "    for i in range(ids.shape[0])[:10]:\n",
    "        shape = shapes[i]\n",
    "        block_len = int(shape[0]) * int(shape[1])  # number of pixels\n",
    "        block_bits = imgs[i]            # get packed bits\n",
    "        block_pixels = np.unpackbits(block_bits)         # unpack bits into boolean pixels\n",
    "        block_pixels = block_pixels[:block_len]          # discard trailing bits generate during packing\n",
    "        block_array = np.reshape(block_pixels, shape)\n",
    "        plt.imshow(block_array)\n",
    "        plt.title('id: {}, target: {}'.format(ids[i], labels.reference.values[i]))\n",
    "        plt.show()\n",
    "\"\"\""
   ]
  },
  {
   "cell_type": "code",
   "execution_count": 15,
   "metadata": {
    "colab": {
     "base_uri": "https://localhost:8080/",
     "height": 424
    },
    "colab_type": "code",
    "id": "DScT8k74bact",
    "outputId": "d66246a0-af0f-451c-d946-ea3537405909"
   },
   "outputs": [
    {
     "data": {
      "text/html": [
       "<div>\n",
       "<style scoped>\n",
       "    .dataframe tbody tr th:only-of-type {\n",
       "        vertical-align: middle;\n",
       "    }\n",
       "\n",
       "    .dataframe tbody tr th {\n",
       "        vertical-align: top;\n",
       "    }\n",
       "\n",
       "    .dataframe thead th {\n",
       "        text-align: right;\n",
       "    }\n",
       "</style>\n",
       "<table border=\"1\" class=\"dataframe\">\n",
       "  <thead>\n",
       "    <tr style=\"text-align: right;\">\n",
       "      <th></th>\n",
       "      <th>reference</th>\n",
       "    </tr>\n",
       "  </thead>\n",
       "  <tbody>\n",
       "    <tr>\n",
       "      <th>1655573</th>\n",
       "      <td>posible,</td>\n",
       "    </tr>\n",
       "    <tr>\n",
       "      <th>1655574</th>\n",
       "      <td>Jose</td>\n",
       "    </tr>\n",
       "    <tr>\n",
       "      <th>1655575</th>\n",
       "      <td>de</td>\n",
       "    </tr>\n",
       "    <tr>\n",
       "      <th>1655576</th>\n",
       "      <td>OFICINA</td>\n",
       "    </tr>\n",
       "    <tr>\n",
       "      <th>1655577</th>\n",
       "      <td>Gu</td>\n",
       "    </tr>\n",
       "  </tbody>\n",
       "</table>\n",
       "</div>"
      ],
      "text/plain": [
       "        reference\n",
       "1655573  posible,\n",
       "1655574      Jose\n",
       "1655575        de\n",
       "1655576   OFICINA\n",
       "1655577        Gu"
      ]
     },
     "execution_count": 15,
     "metadata": {},
     "output_type": "execute_result"
    }
   ],
   "source": [
    "labels.head()"
   ]
  },
  {
   "cell_type": "code",
   "execution_count": 16,
   "metadata": {
    "colab": {
     "base_uri": "https://localhost:8080/",
     "height": 35
    },
    "colab_type": "code",
    "id": "mJ-HrHMUcu81",
    "outputId": "a68886d7-3e3e-4c54-a6f7-d01f1e18f09c"
   },
   "outputs": [
    {
     "name": "stderr",
     "output_type": "stream",
     "text": [
      "100%|█████████████████████████████████████████████████████████████████████| 6953406/6953406 [05:16<00:00, 21989.89it/s]\n"
     ]
    }
   ],
   "source": [
    "# Determine unique labels + eos\n",
    "long_string = \"\"\n",
    "for i in tqdm(labels.reference.values):\n",
    "    long_string += i\n",
    "long_string = list(long_string)\n",
    "long_string.insert(0, \"<eos>\")\n",
    "long_string.insert(0, \"<sos>\")\n",
    "long_string.insert(0, \"<pad>\")\n",
    "my_labels, counts = np.unique(long_string, return_counts=True)"
   ]
  },
  {
   "cell_type": "code",
   "execution_count": 18,
   "metadata": {
    "colab": {},
    "colab_type": "code",
    "id": "UxInnjD3hQWM"
   },
   "outputs": [],
   "source": [
    "# Encoder\n",
    "char2idx = {u:i for i, u in enumerate(my_labels)}\n",
    "idx2char = np.array(my_labels)\n",
    "\n",
    "np.save(\"../data/processed/char2idx.npy\", char2idx)\n",
    "np.save(\"../data/processed/idx2char.npy\", idx2char)"
   ]
  },
  {
   "cell_type": "code",
   "execution_count": 19,
   "metadata": {
    "colab": {
     "base_uri": "https://localhost:8080/",
     "height": 35
    },
    "colab_type": "code",
    "id": "70o1_mIddFN0",
    "outputId": "c76feba3-70c7-4332-8dc0-aa078a81c6a3"
   },
   "outputs": [
    {
     "name": "stderr",
     "output_type": "stream",
     "text": [
      "100%|████████████████████████████████████████████████████████████████████| 6953406/6953406 [00:15<00:00, 440741.37it/s]\n"
     ]
    }
   ],
   "source": [
    "# Add eos and sos to labels datframe\n",
    "encoded_labels = []\n",
    "seq_len = []\n",
    "for lab in tqdm(labels.reference.values):\n",
    "    encoded = [char2idx[i] for i in list(lab)]\n",
    "    seq_len.append(len(encoded))\n",
    "    encoded.append(char2idx[\"<eos>\"])\n",
    "    encoded.insert(0, char2idx[\"<sos>\"])\n",
    "    encoded_labels.append(encoded)\n",
    "labels[\"seq_len\"] = seq_len\n",
    "labels[\"encoded_labels\"] = encoded_labels"
   ]
  },
  {
   "cell_type": "code",
   "execution_count": 60,
   "metadata": {},
   "outputs": [
    {
     "data": {
      "text/html": [
       "<div>\n",
       "<style scoped>\n",
       "    .dataframe tbody tr th:only-of-type {\n",
       "        vertical-align: middle;\n",
       "    }\n",
       "\n",
       "    .dataframe tbody tr th {\n",
       "        vertical-align: top;\n",
       "    }\n",
       "\n",
       "    .dataframe thead th {\n",
       "        text-align: right;\n",
       "    }\n",
       "</style>\n",
       "<table border=\"1\" class=\"dataframe\">\n",
       "  <thead>\n",
       "    <tr style=\"text-align: right;\">\n",
       "      <th></th>\n",
       "      <th>reference</th>\n",
       "      <th>seq_len</th>\n",
       "      <th>encoded_labels</th>\n",
       "    </tr>\n",
       "  </thead>\n",
       "  <tbody>\n",
       "    <tr>\n",
       "      <th>1655573</th>\n",
       "      <td>posible,</td>\n",
       "      <td>8</td>\n",
       "      <td>[29, 77, 76, 80, 70, 63, 73, 66, 10, 27]</td>\n",
       "    </tr>\n",
       "    <tr>\n",
       "      <th>1655574</th>\n",
       "      <td>Jose</td>\n",
       "      <td>4</td>\n",
       "      <td>[29, 42, 76, 80, 66, 27]</td>\n",
       "    </tr>\n",
       "    <tr>\n",
       "      <th>1655575</th>\n",
       "      <td>de</td>\n",
       "      <td>2</td>\n",
       "      <td>[29, 65, 66, 27]</td>\n",
       "    </tr>\n",
       "    <tr>\n",
       "      <th>1655576</th>\n",
       "      <td>OFICINA</td>\n",
       "      <td>7</td>\n",
       "      <td>[29, 47, 38, 41, 35, 41, 46, 33, 27]</td>\n",
       "    </tr>\n",
       "    <tr>\n",
       "      <th>1655577</th>\n",
       "      <td>Gu</td>\n",
       "      <td>2</td>\n",
       "      <td>[29, 39, 82, 27]</td>\n",
       "    </tr>\n",
       "  </tbody>\n",
       "</table>\n",
       "</div>"
      ],
      "text/plain": [
       "        reference  seq_len                            encoded_labels\n",
       "1655573  posible,        8  [29, 77, 76, 80, 70, 63, 73, 66, 10, 27]\n",
       "1655574      Jose        4                  [29, 42, 76, 80, 66, 27]\n",
       "1655575        de        2                          [29, 65, 66, 27]\n",
       "1655576   OFICINA        7      [29, 47, 38, 41, 35, 41, 46, 33, 27]\n",
       "1655577        Gu        2                          [29, 39, 82, 27]"
      ]
     },
     "execution_count": 60,
     "metadata": {},
     "output_type": "execute_result"
    }
   ],
   "source": [
    "labels.head()"
   ]
  },
  {
   "cell_type": "code",
   "execution_count": 22,
   "metadata": {
    "colab": {
     "base_uri": "https://localhost:8080/",
     "height": 271
    },
    "colab_type": "code",
    "id": "U2cQCBAUjnrh",
    "outputId": "9ca569af-3073-4a44-e4c3-a2ca69f1f217"
   },
   "outputs": [],
   "source": [
    "labels.to_csv(\"../data/processed/labels.csv\")"
   ]
  },
  {
   "cell_type": "markdown",
   "metadata": {},
   "source": [
    "### select only 10k images for code testing"
   ]
  },
  {
   "cell_type": "code",
   "execution_count": 69,
   "metadata": {
    "colab": {},
    "colab_type": "code",
    "id": "y3GkK8-5Gboh"
   },
   "outputs": [],
   "source": [
    "imgs = f['img']\n",
    "shapes = f['shape']\n",
    "N = 100000"
   ]
  },
  {
   "cell_type": "code",
   "execution_count": 70,
   "metadata": {
    "colab": {},
    "colab_type": "code",
    "id": "pE6mdHKgE4ob"
   },
   "outputs": [],
   "source": [
    "mask1 = shapes[:, 0] <= 36\n",
    "mask2 = shapes[:, 1] <= 72\n",
    "mask = mask1 * mask2"
   ]
  },
  {
   "cell_type": "code",
   "execution_count": 72,
   "metadata": {
    "colab": {
     "base_uri": "https://localhost:8080/",
     "height": 35
    },
    "colab_type": "code",
    "id": "T-0ohczRFDyw",
    "outputId": "16796114-331e-4d99-a770-4d4ec60e68f2"
   },
   "outputs": [
    {
     "name": "stderr",
     "output_type": "stream",
     "text": [
      "\n",
      "\n",
      "0it [00:00, ?it/s]\n",
      "\n",
      "433it [00:00, 4298.52it/s]\n",
      "\n",
      "865it [00:00, 4295.17it/s]\n",
      "\n",
      "1187it [00:00, 3894.19it/s]\n",
      "\n",
      "1590it [00:00, 3925.20it/s]\n",
      "\n",
      "2032it [00:00, 4053.44it/s]\n",
      "\n",
      "2472it [00:00, 4142.96it/s]\n",
      "\n",
      "2912it [00:00, 4208.41it/s]\n",
      "\n",
      "3348it [00:00, 4243.28it/s]\n",
      "\n",
      "3781it [00:00, 4259.57it/s]\n",
      "\n",
      "4194it [00:01, 4210.53it/s]\n",
      "\n",
      "4608it [00:01, 4179.93it/s]\n",
      "\n",
      "5040it [00:01, 4211.96it/s]\n",
      "\n",
      "5461it [00:01, 4202.14it/s]\n",
      "\n",
      "5897it [00:01, 4239.65it/s]\n",
      "\n",
      "6329it [00:01, 4254.24it/s]\n",
      "\n",
      "6772it [00:01, 4296.32it/s]\n",
      "\n",
      "7206it [00:01, 4299.50it/s]\n",
      "\n",
      "7636it [00:01, 4277.96it/s]\n",
      "\n",
      "8064it [00:01, 4218.84it/s]\n",
      "\n",
      "8486it [00:02, 3740.93it/s]\n",
      "\n",
      "8870it [00:02, 3486.16it/s]\n",
      "\n",
      "9298it [00:02, 3684.61it/s]\n",
      "\n",
      "9736it [00:02, 3861.07it/s]\n",
      "\n",
      "10132it [00:02, 3718.18it/s]\n",
      "\n",
      "10512it [00:02, 3527.30it/s]\n",
      "\n",
      "10873it [00:02, 3413.41it/s]\n",
      "\n",
      "11265it [00:02, 3544.05it/s]\n",
      "\n",
      "11687it [00:02, 3715.56it/s]\n",
      "\n",
      "12103it [00:03, 3830.85it/s]\n",
      "\n",
      "12531it [00:03, 3947.37it/s]\n",
      "\n",
      "12931it [00:03, 3786.43it/s]\n",
      "\n",
      "13315it [00:03, 3571.85it/s]\n",
      "\n",
      "13678it [00:03, 3391.30it/s]\n",
      "\n",
      "14105it [00:03, 3608.12it/s]\n",
      "\n",
      "14540it [00:03, 3795.41it/s]\n",
      "\n",
      "14977it [00:03, 3943.08it/s]\n",
      "\n",
      "15397it [00:03, 4014.28it/s]\n",
      "\n",
      "15804it [00:04, 3819.16it/s]\n",
      "\n",
      "16192it [00:04, 3536.57it/s]\n",
      "\n",
      "16554it [00:04, 3394.04it/s]\n",
      "\n",
      "16926it [00:04, 3478.52it/s]\n",
      "\n",
      "17326it [00:04, 3612.94it/s]\n",
      "\n",
      "17753it [00:04, 3780.19it/s]\n",
      "\n",
      "18186it [00:04, 3922.36it/s]\n",
      "\n",
      "18609it [00:04, 3999.53it/s]\n",
      "\n",
      "19031it [00:04, 4052.81it/s]\n",
      "\n",
      "19464it [00:04, 4123.54it/s]\n",
      "\n",
      "19899it [00:05, 4179.75it/s]\n",
      "\n",
      "20319it [00:05, 4103.81it/s]\n",
      "\n",
      "20744it [00:05, 4137.75it/s]\n",
      "\n",
      "21188it [00:05, 4215.23it/s]\n",
      "\n",
      "21611it [00:05, 4003.47it/s]\n",
      "\n",
      "22015it [00:05, 4005.62it/s]\n",
      "\n",
      "22449it [00:05, 4091.92it/s]\n",
      "\n",
      "22897it [00:05, 4191.48it/s]\n",
      "\n",
      "23323it [00:05, 4202.30it/s]\n",
      "\n",
      "23773it [00:06, 4278.83it/s]\n",
      "\n",
      "24229it [00:06, 4349.96it/s]\n",
      "\n",
      "24670it [00:06, 4358.75it/s]\n",
      "\n",
      "25107it [00:06, 4335.30it/s]\n",
      "\n",
      "25545it [00:06, 4335.76it/s]\n",
      "\n",
      "25988it [00:06, 4354.43it/s]\n",
      "\n",
      "26434it [00:06, 4376.15it/s]\n",
      "\n",
      "26882it [00:06, 4396.24it/s]\n",
      "\n",
      "27334it [00:06, 4423.14it/s]\n",
      "\n",
      "27777it [00:06, 4389.35it/s]\n",
      "\n",
      "28220it [00:07, 4391.65it/s]\n",
      "\n",
      "28661it [00:07, 4396.72it/s]\n",
      "\n",
      "29108it [00:07, 4411.15it/s]\n",
      "\n",
      "29550it [00:07, 4403.74it/s]\n",
      "\n",
      "29991it [00:07, 4383.34it/s]\n",
      "\n",
      "30431it [00:07, 4378.32it/s]\n",
      "\n",
      "30882it [00:07, 4408.95it/s]\n",
      "\n",
      "31323it [00:07, 4223.14it/s]\n",
      "\n",
      "31748it [00:07, 3919.05it/s]\n",
      "\n",
      "32146it [00:07, 3878.95it/s]\n",
      "\n",
      "32589it [00:08, 4021.47it/s]\n",
      "\n",
      "32996it [00:08, 3900.45it/s]\n",
      "\n",
      "33390it [00:08, 3623.85it/s]\n",
      "\n",
      "33759it [00:08, 3541.87it/s]\n",
      "\n",
      "34200it [00:08, 3757.15it/s]\n",
      "\n",
      "34650it [00:08, 3945.31it/s]\n",
      "\n",
      "35090it [00:08, 4067.78it/s]\n",
      "\n",
      "35518it [00:08, 4120.49it/s]\n",
      "\n",
      "35956it [00:08, 4184.96it/s]\n",
      "\n",
      "36393it [00:09, 4237.27it/s]\n",
      "\n",
      "36838it [00:09, 4289.39it/s]\n",
      "\n",
      "37284it [00:09, 4329.59it/s]\n",
      "\n",
      "37719it [00:09, 4263.40it/s]\n",
      "\n",
      "38147it [00:09, 3641.09it/s]\n",
      "\n",
      "38528it [00:09, 3568.53it/s]\n",
      "\n",
      "38917it [00:09, 3653.78it/s]\n",
      "\n",
      "39330it [00:09, 3777.14it/s]\n",
      "\n",
      "39751it [00:09, 3895.93it/s]\n",
      "\n",
      "40185it [00:09, 4010.64it/s]\n",
      "\n",
      "40619it [00:10, 4095.75it/s]\n",
      "\n",
      "41059it [00:10, 4173.80it/s]\n",
      "\n",
      "41514it [00:10, 4271.01it/s]\n",
      "\n",
      "41944it [00:10, 4233.21it/s]\n",
      "\n",
      "42384it [00:10, 4272.20it/s]\n",
      "\n",
      "42813it [00:10, 4255.68it/s]\n",
      "\n",
      "43253it [00:10, 4288.83it/s]\n",
      "\n",
      "43692it [00:10, 4317.76it/s]\n",
      "\n",
      "44125it [00:10, 4221.63it/s]\n",
      "\n",
      "44549it [00:11, 4218.42it/s]\n",
      "\n",
      "44972it [00:11, 4217.16it/s]\n",
      "\n",
      "45408it [00:11, 4249.76it/s]\n",
      "\n",
      "45839it [00:11, 4257.86it/s]\n",
      "\n",
      "46285it [00:11, 4307.54it/s]\n",
      "\n",
      "46717it [00:11, 4225.91it/s]\n",
      "\n",
      "47145it [00:11, 4232.63it/s]\n",
      "\n",
      "47588it [00:11, 4281.46it/s]\n",
      "\n",
      "48028it [00:11, 4306.73it/s]\n",
      "\n",
      "48460it [00:11, 4129.04it/s]\n",
      "\n",
      "48875it [00:12, 4032.42it/s]\n",
      "\n",
      "49292it [00:12, 4064.63it/s]\n",
      "\n",
      "49712it [00:12, 4095.27it/s]\n",
      "\n",
      "50160it [00:12, 4195.48it/s]\n",
      "\n",
      "50605it [00:12, 4259.77it/s]\n",
      "\n",
      "51033it [00:12, 4235.31it/s]\n",
      "\n",
      "51466it [00:12, 4254.10it/s]\n",
      "\n",
      "51909it [00:12, 4303.65it/s]\n",
      "\n",
      "52355it [00:12, 4340.12it/s]\n",
      "\n",
      "52790it [00:12, 4257.45it/s]\n",
      "\n",
      "53217it [00:13, 3730.33it/s]\n",
      "\n",
      "53603it [00:13, 3711.80it/s]\n",
      "\n",
      "54009it [00:13, 3802.03it/s]\n",
      "\n",
      "54459it [00:13, 3979.50it/s]\n",
      "\n",
      "54895it [00:13, 4082.54it/s]\n",
      "\n",
      "55347it [00:13, 4196.07it/s]\n",
      "\n",
      "55791it [00:13, 4255.38it/s]\n",
      "\n",
      "56230it [00:13, 4285.70it/s]\n",
      "\n",
      "56662it [00:13, 4261.28it/s]\n",
      "\n",
      "57090it [00:14, 3997.32it/s]\n",
      "\n",
      "57519it [00:14, 4072.88it/s]\n",
      "\n",
      "57936it [00:14, 4092.65it/s]\n",
      "\n",
      "58348it [00:14, 3851.55it/s]\n",
      "\n",
      "58738it [00:14, 3672.77it/s]\n",
      "\n",
      "59128it [00:14, 3730.32it/s]\n",
      "\n",
      "59567it [00:14, 3898.80it/s]\n",
      "\n",
      "60001it [00:14, 4012.77it/s]\n",
      "\n",
      "60438it [00:14, 4111.69it/s]\n",
      "\n",
      "60887it [00:14, 4209.81it/s]\n",
      "\n",
      "61311it [00:15, 4018.46it/s]\n",
      "\n",
      "61717it [00:15, 3786.88it/s]\n",
      "\n",
      "62102it [00:15, 3720.54it/s]\n",
      "\n",
      "62536it [00:15, 3879.36it/s]\n",
      "\n",
      "62985it [00:15, 4036.12it/s]\n",
      "\n",
      "63417it [00:15, 4115.78it/s]\n",
      "\n",
      "63860it [00:15, 4205.25it/s]\n",
      "\n",
      "64284it [00:15, 4206.43it/s]\n",
      "\n",
      "64730it [00:15, 4274.64it/s]\n",
      "\n",
      "65177it [00:16, 4322.25it/s]\n",
      "\n",
      "65611it [00:16, 4254.79it/s]\n",
      "\n",
      "66050it [00:16, 4288.04it/s]\n",
      "\n",
      "66480it [00:16, 3766.07it/s]\n",
      "\n",
      "66881it [00:16, 3828.62it/s]\n",
      "\n",
      "67302it [00:16, 3927.53it/s]\n",
      "\n",
      "67741it [00:16, 4044.84it/s]\n",
      "\n",
      "68182it [00:16, 4139.34it/s]\n",
      "\n",
      "68616it [00:16, 4191.00it/s]\n",
      "\n",
      "69054it [00:16, 4236.63it/s]\n",
      "\n",
      "69482it [00:17, 4248.12it/s]\n",
      "\n",
      "69921it [00:17, 4284.32it/s]\n",
      "\n",
      "70361it [00:17, 4308.71it/s]\n",
      "\n",
      "70793it [00:17, 4303.09it/s]\n",
      "\n",
      "71224it [00:17, 4257.66it/s]\n",
      "\n",
      "71665it [00:17, 4295.64it/s]\n",
      "\n",
      "72105it [00:17, 4317.09it/s]\n",
      "\n",
      "72538it [00:17, 4315.77it/s]\n",
      "\n",
      "72971it [00:17, 4310.18it/s]\n",
      "\n",
      "73403it [00:18, 4278.62it/s]\n",
      "\n",
      "73832it [00:18, 4259.98it/s]\n",
      "\n",
      "74259it [00:18, 4254.13it/s]\n",
      "\n",
      "74687it [00:18, 4251.99it/s]\n",
      "\n",
      "75127it [00:18, 4286.18it/s]\n",
      "\n",
      "75564it [00:18, 4305.12it/s]\n",
      "\n",
      "76000it [00:18, 4312.08it/s]\n",
      "\n",
      "76433it [00:18, 4308.03it/s]\n",
      "\n",
      "76871it [00:18, 4320.00it/s]\n",
      "\n",
      "77308it [00:18, 4325.48it/s]\n",
      "\n",
      "77752it [00:19, 4351.82it/s]\n",
      "\n",
      "78193it [00:19, 4359.64it/s]\n",
      "\n",
      "78631it [00:19, 4356.22it/s]\n",
      "\n",
      "79074it [00:19, 4368.63it/s]\n",
      "\n",
      "79511it [00:19, 4359.48it/s]\n",
      "\n",
      "79952it [00:19, 4365.03it/s]\n",
      "\n",
      "80400it [00:19, 4389.45it/s]\n",
      "\n",
      "80839it [00:19, 4366.90it/s]\n",
      "\n",
      "81276it [00:19, 4332.50it/s]\n",
      "\n",
      "81711it [00:19, 4332.93it/s]\n",
      "\n",
      "82156it [00:20, 4358.02it/s]\n",
      "\n",
      "82592it [00:20, 4310.49it/s]\n",
      "\n",
      "83024it [00:20, 4303.92it/s]\n",
      "\n",
      "83465it [00:20, 4325.47it/s]\n",
      "\n",
      "83901it [00:20, 4326.76it/s]\n",
      "\n",
      "84334it [00:20, 4317.86it/s]\n",
      "\n",
      "84766it [00:20, 4244.24it/s]\n",
      "\n",
      "85206it [00:20, 4281.24it/s]\n",
      "\n",
      "85635it [00:20, 4261.30it/s]\n",
      "\n",
      "86062it [00:20, 4241.34it/s]\n",
      "\n",
      "86489it [00:21, 4240.87it/s]\n",
      "\n",
      "86928it [00:21, 4275.19it/s]\n",
      "\n",
      "87356it [00:21, 4241.88it/s]\n",
      "\n",
      "87781it [00:21, 4136.48it/s]\n",
      "\n",
      "88226it [00:21, 4217.19it/s]\n",
      "\n",
      "88649it [00:21, 4188.16it/s]\n",
      "\n",
      "89086it [00:21, 4232.09it/s]\n",
      "\n",
      "89510it [00:21, 4208.54it/s]\n",
      "\n",
      "89948it [00:21, 4249.50it/s]\n",
      "\n",
      "90390it [00:21, 4289.43it/s]\n",
      "\n",
      "90820it [00:22, 4280.89it/s]\n",
      "\n",
      "91255it [00:22, 4292.09it/s]\n",
      "\n",
      "91690it [00:22, 4301.79it/s]\n",
      "\n",
      "92126it [00:22, 4309.74it/s]\n",
      "\n",
      "92566it [00:22, 4327.08it/s]\n",
      "\n",
      "92999it [00:22, 4292.87it/s]\n",
      "\n",
      "93429it [00:22, 4272.88it/s]\n",
      "\n",
      "93857it [00:22, 4263.10it/s]\n",
      "\n",
      "94303it [00:22, 4310.76it/s]\n",
      "\n",
      "94735it [00:22, 4296.85it/s]\n",
      "\n",
      "95165it [00:23, 4288.40it/s]\n",
      "\n",
      "95599it [00:23, 4293.98it/s]\n",
      "\n",
      "96042it [00:23, 4325.06it/s]\n",
      "\n",
      "96475it [00:23, 4241.16it/s]\n",
      "\n",
      "96900it [00:23, 3965.41it/s]\n",
      "\n",
      "97341it [00:23, 4080.43it/s]\n",
      "\n",
      "97755it [00:23, 4089.63it/s]\n",
      "\n",
      "98192it [00:23, 4161.19it/s]\n",
      "\n",
      "98634it [00:23, 4226.71it/s]\n",
      "\n",
      "99059it [00:24, 4222.52it/s]\n",
      "\n",
      "99483it [00:24, 4218.51it/s]\n",
      "\n",
      "100000it [00:24, 4126.98it/s]\n"
     ]
    }
   ],
   "source": [
    "index = np.arange(len(labels))[mask][:N]\n",
    "x = np.zeros((N, 36, 72), dtype=np.uint8)\n",
    "y = np.ones((N, np.max(new_seq_len) + 2), dtype=int) * char2idx[\"<pad>\"]\n",
    "\n",
    "new_reference = labels.reference.values[mask][:N]\n",
    "new_encoded_values = labels.encoded_labels.values[mask][:N]\n",
    "new_seq_len = labels.seq_len.values[mask][:N]\n",
    "\n",
    "for i, idx in tqdm(enumerate(index)):\n",
    "    shape = shapes[idx]\n",
    "    block_len = int(shape[0]) * int(shape[1])  # number of pixels\n",
    "    block_bits = imgs[idx]            # get packed bits\n",
    "    block_pixels = np.unpackbits(block_bits)         # unpack bits into boolean pixels\n",
    "    block_pixels = block_pixels[:block_len]          # discard trailing bits generate during packing\n",
    "    block_array = np.reshape(block_pixels, shape)\n",
    "    x[i, :shape[0], :shape[1]] = np.logical_not(block_array)\n",
    "    y[i, :new_seq_len[i] + 2] = new_encoded_values[i]"
   ]
  },
  {
   "cell_type": "code",
   "execution_count": 73,
   "metadata": {
    "colab": {
     "base_uri": "https://localhost:8080/",
     "height": 235
    },
    "colab_type": "code",
    "id": "VD4NjIm3HpRo",
    "outputId": "872a293f-9a5e-44a0-d186-face4b566a1d"
   },
   "outputs": [
    {
     "data": {
      "text/plain": [
       "Text(0.5, 1.0, '[29 65 66 27 28 28 28 28 28 28]')"
      ]
     },
     "execution_count": 73,
     "metadata": {},
     "output_type": "execute_result"
    },
    {
     "data": {
      "image/png": "[encoded data removed]",
      "text/plain": [
       "<Figure size 432x288 with 1 Axes>"
      ]
     },
     "metadata": {
      "needs_background": "light"
     },
     "output_type": "display_data"
    }
   ],
   "source": [
    "i = 0\n",
    "plt.imshow(x[i])\n",
    "plt.title(y[i])"
   ]
  },
  {
   "cell_type": "code",
   "execution_count": 74,
   "metadata": {
    "colab": {
     "base_uri": "https://localhost:8080/",
     "height": 162
    },
    "colab_type": "code",
    "id": "tulGKGSmREfp",
    "outputId": "4328bf7f-f85a-441f-a8ec-451fe751aba6"
   },
   "outputs": [],
   "source": [
    "np.save(\"../data/processed/x.npy\", x)\n",
    "np.save(\"../data/processed/y.npy\", y)"
   ]
  },
  {
   "cell_type": "code",
   "execution_count": 75,
   "metadata": {},
   "outputs": [],
   "source": [
    "seq_len = (y != 28).sum(-1) - 1"
   ]
  },
  {
   "cell_type": "code",
   "execution_count": 76,
   "metadata": {
    "colab": {},
    "colab_type": "code",
    "id": "M-vv7oGLOQs4"
   },
   "outputs": [],
   "source": [
    "np.save(\"../data/processed/seq_len.npy\", seq_len)"
   ]
  },
  {
   "cell_type": "code",
   "execution_count": 79,
   "metadata": {},
   "outputs": [],
   "source": [
    "index = np.arange(len(x))\n",
    "np.random.shuffle(index)\n",
    "\n",
    "x = x[index]\n",
    "y = y[index]\n",
    "seq_len = seq_len[index]\n",
    "\n",
    "n = int(0.9 * N)\n",
    "\n",
    "np.save(\"../data/processed/x_train.npy\", x[:n])\n",
    "np.save(\"../data/processed/y_train.npy\", y[:n])\n",
    "np.save(\"../data/processed/seq_len_train.npy\", seq_len[:n])\n",
    "\n",
    "np.save(\"../data/processed/x_val.npy\", x[n:])\n",
    "np.save(\"../data/processed/y_val.npy\", y[n:])\n",
    "np.save(\"../data/processed/seq_len_val.npy\", seq_len[n:])"
   ]
  },
  {
   "cell_type": "code",
   "execution_count": null,
   "metadata": {},
   "outputs": [],
   "source": []
  }
 ],
 "metadata": {
  "accelerator": "GPU",
  "colab": {
   "collapsed_sections": [],
   "machine_shape": "hm",
   "name": "text.ipynb",
   "provenance": []
  },
  "kernelspec": {
   "display_name": "Python 3",
   "language": "python",
   "name": "python3"
  },
  "language_info": {
   "codemirror_mode": {
    "name": "ipython",
    "version": 3
   },
   "file_extension": ".py",
   "mimetype": "text/x-python",
   "name": "python",
   "nbconvert_exporter": "python",
   "pygments_lexer": "ipython3",
   "version": "3.7.0"
  },
  "pycharm": {
   "stem_cell": {
    "cell_type": "raw",
    "metadata": {
     "collapsed": false
    },
    "source": []
   }
  }
 },
 "nbformat": 4,
 "nbformat_minor": 1
}
